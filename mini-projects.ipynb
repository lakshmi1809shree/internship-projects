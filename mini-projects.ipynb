{
 "cells": [
  {
   "cell_type": "code",
   "execution_count": 4,
   "metadata": {},
   "outputs": [
    {
     "name": "stdout",
     "output_type": "stream",
     "text": [
      "adjective:amazing\n",
      "verb1:sky diving\n",
      "verb2:jump\n",
      "famous_person: captain america\n",
      "Computer programming is so amazing! it makes me so excited all the tome because \\ i love to sky diving.stay hydrated and jumplike you are captain america!!\n"
     ]
    }
   ],
   "source": [
    "adj=input(\"adjective:\")\n",
    "verb1=input(\"verb1:\")\n",
    "verb2=input(\"verb2:\")\n",
    "famous_person=input(\"famous_person: \")\n",
    "madlib=f\"Computer programming is so {adj}! it makes me so excited all the tome because \\ i love to {verb1}.stay hydrated and {verb2}like you are {famous_person}!!\"\n",
    "print(madlib)"
   ]
  },
  {
   "cell_type": "code",
   "execution_count": 5,
   "metadata": {},
   "outputs": [
    {
     "name": "stdout",
     "output_type": "stream",
     "text": [
      "Computer programming is so amazing! it makes me so excited all the tome because \\ i love to sky diving.stay hydrated and jumplike you are captain america!!\n"
     ]
    }
   ],
   "source": [
    "print(madlib)"
   ]
  },
  {
   "cell_type": "code",
   "execution_count": 6,
   "metadata": {},
   "outputs": [
    {
     "ename": "AttributeError",
     "evalue": "'str' object has no attribute 'seek'",
     "output_type": "error",
     "traceback": [
      "\u001b[1;31m---------------------------------------------------------------------------\u001b[0m",
      "\u001b[1;31mAttributeError\u001b[0m                            Traceback (most recent call last)",
      "\u001b[1;32m<ipython-input-6-4a54d23c1677>\u001b[0m in \u001b[0;36m<module>\u001b[1;34m\u001b[0m\n\u001b[1;32m----> 1\u001b[1;33m \u001b[0mmadlib\u001b[0m\u001b[1;33m.\u001b[0m\u001b[0mseek\u001b[0m\u001b[1;33m(\u001b[0m\u001b[1;36m0\u001b[0m\u001b[1;33m)\u001b[0m\u001b[1;33m\u001b[0m\u001b[1;33m\u001b[0m\u001b[0m\n\u001b[0m",
      "\u001b[1;31mAttributeError\u001b[0m: 'str' object has no attribute 'seek'"
     ]
    }
   ],
   "source": [
    "madlib.seek(0)\n"
   ]
  },
  {
   "cell_type": "markdown",
   "metadata": {},
   "source": [
    "# second game computer random number\n"
   ]
  },
  {
   "cell_type": "code",
   "execution_count": 13,
   "metadata": {},
   "outputs": [],
   "source": [
    "import random\n",
    "def guess(x):\n",
    "    random_num=random.randint(1,x)\n",
    "    guess=0\n",
    "    while guess!=random_num:\n",
    "        guess=int(input(f'guess no. b/w 1&{x}: '))\n",
    "        if guess<random_num:\n",
    "            print(\"too low ! try again\")\n",
    "        elif guess>random_num:\n",
    "            print(\"too high! try again\")\n",
    "    print(f'yay u guessed correctly {random_num} is the number')        \n",
    "    "
   ]
  },
  {
   "cell_type": "code",
   "execution_count": 14,
   "metadata": {},
   "outputs": [
    {
     "name": "stdout",
     "output_type": "stream",
     "text": [
      "guess no. b/w 1&10: 7\n",
      "too low ! try again\n",
      "guess no. b/w 1&10: 9\n",
      "yay u guessed correctly 9 is the number\n"
     ]
    }
   ],
   "source": [
    "guess(10)\n"
   ]
  },
  {
   "cell_type": "markdown",
   "metadata": {},
   "source": [
    "# 3rd game guessing number (user)\n"
   ]
  },
  {
   "cell_type": "code",
   "execution_count": null,
   "metadata": {},
   "outputs": [],
   "source": []
  }
 ],
 "metadata": {
  "kernelspec": {
   "display_name": "Python 3 (ipykernel)",
   "language": "python",
   "name": "python3"
  },
  "language_info": {
   "codemirror_mode": {
    "name": "ipython",
    "version": 3
   },
   "file_extension": ".py",
   "mimetype": "text/x-python",
   "name": "python",
   "nbconvert_exporter": "python",
   "pygments_lexer": "ipython3",
   "version": "3.9.12"
  }
 },
 "nbformat": 4,
 "nbformat_minor": 4
}
